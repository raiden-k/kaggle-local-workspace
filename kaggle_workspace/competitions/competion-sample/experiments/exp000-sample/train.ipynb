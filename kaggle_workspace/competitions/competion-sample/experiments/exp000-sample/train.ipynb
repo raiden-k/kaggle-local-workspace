{
 "cells": [
  {
   "cell_type": "markdown",
   "id": "6c7b253d",
   "metadata": {},
   "source": [
    "### ローカルPCで学習するコード"
   ]
  },
  {
   "cell_type": "code",
   "execution_count": null,
   "id": "f28c8508",
   "metadata": {},
   "outputs": [],
   "source": [
    "import json\n",
    "import random\n",
    "import os\n",
    "import pickle\n",
    "import sys\n",
    "import warnings\n",
    "import yaml\n",
    "from pathlib import Path\n",
    "\n",
    "import lightgbm as lgb\n",
    "import matplotlib.pyplot as plt\n",
    "import numpy as np\n",
    "import pandas as pd\n",
    "import torch\n",
    "import wandb\n",
    "from scipy.stats import rankdata\n",
    "from sklearn.linear_model import LogisticRegression\n",
    "from sklearn.model_selection import KFold\n",
    "from sklearn.model_selection import StratifiedKFold\n",
    "from sklearn.datasets import fetch_california_housing\n",
    "from sklearn.model_selection import train_test_split\n",
    "from sklearn.metrics import mean_squared_error\n",
    "from wandb.integration.lightgbm import log_summary, wandb_callback"
   ]
  },
  {
   "cell_type": "markdown",
   "id": "7238df87",
   "metadata": {},
   "source": [
    "#### コンペに関する情報取得\n",
    "- path, parameterなどを格納"
   ]
  },
  {
   "cell_type": "code",
   "execution_count": 2,
   "id": "574c7632",
   "metadata": {},
   "outputs": [],
   "source": [
    "with open(\"./config.yaml\", \"r\") as file:\n",
    "    config_info = yaml.safe_load(file)"
   ]
  },
  {
   "cell_type": "code",
   "execution_count": 3,
   "id": "f5154eda",
   "metadata": {},
   "outputs": [],
   "source": [
    "class CFG:\n",
    "    \n",
    "    ## kaggle_path\n",
    "    kaggle_api_path = config_info[\"kaggle_api_path\"]\n",
    "    kaggle_datasets_path = config_info[\"kaggle_datasets_path\"]\n",
    "    \n",
    "    ## wandb_path\n",
    "    wandb_api_path = config_info[\"wandb_api_path\"]\n",
    "    wandb_logging_path = config_info[\"wandb_logging_path\"]\n",
    "    \n",
    "    ## exp_parameter \n",
    "    expUser = config_info[\"expUser\"]\n",
    "    expid = config_info[\"expID\"]\n",
    "    enviroments = 'local'\n",
    "    competition_name = config_info[\"competition_name\"]\n",
    "    \n",
    "    ## \n",
    "    dataPath = config_info[\"dataPath\"]\n",
    "    train = 'train.csv'\n",
    "    train_demographics = 'train_demographics.csv'\n",
    "    test = 'test.csv'\n",
    "    test_demographics = 'test_demographics.csv'    \n",
    "    target = \"\"  \n",
    "    \n",
    "    ## model_learning_parameter\n",
    "    seed = config_info[\"seed\"] ##seed値\n",
    "    n_splits = config_info[\"n_splits\"]\n",
    "    test_size = 0.2\n",
    "    random_state = 42\n",
    "    learning_rate = 0.1\n",
    "    num_leaves = 31\n",
    "    n_estimators = 10000\n",
    "    feature_fraction = 0.9\n",
    "    stopping_rounds = 50\n",
    "    log_evaluation = 100\n",
    "    objective = 'regression'\n",
    "    metric =  'rmse',\n",
    "    features = [\"MedInc\", \"HouseAge\", \"AveRooms\", \"AveBedrms\", \"Population\", \"AveOccup\", \"Latitude\", \"Longitude\"]\n",
    "    "
   ]
  },
  {
   "cell_type": "markdown",
   "id": "2731ce84",
   "metadata": {},
   "source": [
    "### API認証"
   ]
  },
  {
   "cell_type": "code",
   "execution_count": 4,
   "id": "ce5f4115",
   "metadata": {},
   "outputs": [],
   "source": [
    "## kaggle-api\n",
    "def set_kaggle_creds(api_path):\n",
    "    '''\n",
    "    apiキーとユーザーのパスを設定すると、kaggleAPIの認証をする\n",
    "    '''\n",
    "    kaggle_api_path = api_path\n",
    "    with open(kaggle_api_path, 'r', encoding='utf-8') as f:\n",
    "        kaggle_creds = json.load(f)\n",
    "        \n",
    "    os.environ[\"KAGGLE_USERNAME\"] = kaggle_creds[\"username\"]\n",
    "    os.environ[\"KAGGLE_KEY\"] = kaggle_creds[\"key\"]\n",
    "    \n",
    "    from kaggle import KaggleApi\n",
    "    from kaggle.api.kaggle_api_extended import KaggleApi\n",
    "    api = KaggleApi()\n",
    "    api.authenticate()\n",
    "    return api\n",
    "\n",
    "kaggle_api = set_kaggle_creds(CFG.kaggle_api_path)"
   ]
  },
  {
   "cell_type": "code",
   "execution_count": 5,
   "id": "9bbb2484",
   "metadata": {},
   "outputs": [
    {
     "name": "stderr",
     "output_type": "stream",
     "text": [
      "\u001b[34m\u001b[1mwandb\u001b[0m: Using wandb-core as the SDK backend.  Please refer to https://wandb.me/wandb-core for more information.\n",
      "\u001b[34m\u001b[1mwandb\u001b[0m: Currently logged in as: \u001b[33mryokuki\u001b[0m to \u001b[32mhttps://api.wandb.ai\u001b[0m. Use \u001b[1m`wandb login --relogin`\u001b[0m to force relogin\n"
     ]
    }
   ],
   "source": [
    "## wandb-api\n",
    "def login_wandb(api_path):\n",
    "    \n",
    "    with api_path.open('r', encoding='utf-8') as f:\n",
    "        cfg = yaml.safe_load(f)          # safe_load で実行コード混入を防止 :contentReference[oaicite:2]{index=2}\n",
    "    \n",
    "    os.environ['WANDB_API_KEY'] = cfg['wandb']['WANDB_API_KEY']\n",
    "    wandb.login()\n",
    "\n",
    "os.environ[\"WANDB_DIR\"] = CFG.wandb_logging_path\n",
    "wandb_api_path = Path(CFG.wandb_api_path)\n",
    "login_wandb(wandb_api_path)"
   ]
  },
  {
   "cell_type": "markdown",
   "id": "8d1175b2",
   "metadata": {},
   "source": [
    "### kaggleデータセット用 初回だけの処理"
   ]
  },
  {
   "cell_type": "code",
   "execution_count": 6,
   "id": "ba63dcc1",
   "metadata": {},
   "outputs": [],
   "source": [
    "FLAG = False\n",
    "if FLAG:\n",
    "    path = \"../results\"\n",
    "    api.dataset_create_new(\n",
    "        folder=str(path),               # 必須\n",
    "        public=False,                      # 公開なら True / 下書きなら False\n",
    "        quiet=False,                      # 進捗バーを表示しないなら True\n",
    "        convert_to_csv=False,             # CSV 変換不要なら False\n",
    "        dir_mode=\"zip\"                    # ← CLI の --dir-mode zip と同じ\n",
    "    )"
   ]
  },
  {
   "cell_type": "markdown",
   "id": "6f2473cf",
   "metadata": {},
   "source": [
    "### CFG設定"
   ]
  },
  {
   "cell_type": "code",
   "execution_count": null,
   "id": "ab7fa96c",
   "metadata": {},
   "outputs": [],
   "source": [
    "#seedをCFG.seed値に固定する\n",
    "def seed_everything(seed=42):\n",
    "    random.seed(seed)\n",
    "    os.environ[\"PYTHONHASHSEED\"] = str(seed)\n",
    "    np.random.seed(seed)\n",
    "    torch_manual_seed(seed)\n",
    "    torch.cuda.manual_seed(seed)\n",
    "    torch.backends,cudnn.deterministic = True    \n",
    "    \n",
    "seed_everything(CFG.seed)\n",
    "\n",
    "plt.rcParams[\"font.size\"] = 13\n",
    "warnings.filterwarnings('ignore')"
   ]
  },
  {
   "cell_type": "code",
   "execution_count": 8,
   "id": "13991554",
   "metadata": {},
   "outputs": [
    {
     "name": "stdout",
     "output_type": "stream",
     "text": [
      "My Enviroment: local PC.\n"
     ]
    }
   ],
   "source": [
    "INPUT = Path(CFG.dataPath)\n",
    "print(f'My Enviroment: local PC.')"
   ]
  },
  {
   "cell_type": "code",
   "execution_count": null,
   "id": "a7c3baca",
   "metadata": {},
   "outputs": [
    {
     "name": "stdout",
     "output_type": "stream",
     "text": [
      "wandb version: 0.19.9\n",
      "lightgbm version: 4.6.0\n"
     ]
    },
    {
     "data": {
      "text/html": [
       "Tracking run with wandb version 0.19.9"
      ],
      "text/plain": [
       "<IPython.core.display.HTML object>"
      ]
     },
     "metadata": {},
     "output_type": "display_data"
    },
    {
     "data": {
      "text/html": [
       "Run data is saved locally in <code>../../wandb/run-20250619_092321-670fmj0r</code>"
      ],
      "text/plain": [
       "<IPython.core.display.HTML object>"
      ]
     },
     "metadata": {},
     "output_type": "display_data"
    },
    {
     "data": {
      "text/html": [
       "Syncing run <strong><a href='https://wandb.ai/ryokuki/cmi-detect-behavior-with-sensor-data_kukimiya/runs/670fmj0r' target=\"_blank\">001</a></strong> to <a href='https://wandb.ai/ryokuki/cmi-detect-behavior-with-sensor-data_kukimiya' target=\"_blank\">Weights & Biases</a> (<a href='https://wandb.me/developer-guide' target=\"_blank\">docs</a>)<br>"
      ],
      "text/plain": [
       "<IPython.core.display.HTML object>"
      ]
     },
     "metadata": {},
     "output_type": "display_data"
    },
    {
     "data": {
      "text/html": [
       " View project at <a href='https://wandb.ai/ryokuki/cmi-detect-behavior-with-sensor-data_kukimiya' target=\"_blank\">https://wandb.ai/ryokuki/cmi-detect-behavior-with-sensor-data_kukimiya</a>"
      ],
      "text/plain": [
       "<IPython.core.display.HTML object>"
      ]
     },
     "metadata": {},
     "output_type": "display_data"
    },
    {
     "data": {
      "text/html": [
       " View run at <a href='https://wandb.ai/ryokuki/cmi-detect-behavior-with-sensor-data_kukimiya/runs/670fmj0r' target=\"_blank\">https://wandb.ai/ryokuki/cmi-detect-behavior-with-sensor-data_kukimiya/runs/670fmj0r</a>"
      ],
      "text/plain": [
       "<IPython.core.display.HTML object>"
      ]
     },
     "metadata": {},
     "output_type": "display_data"
    }
   ],
   "source": [
    "config = CFG()\n",
    "print(\"wandb version:\", wandb.__version__)\n",
    "print(\"lightgbm version:\", lgb.__version__)\n",
    "\n",
    "# クラスの属性を辞書に変換する関数\n",
    "def class_to_dict(obj):\n",
    "    return {k: getattr(obj, k) for k in dir(obj) if not k.startswith('__') and not callable(getattr(obj, k))}\n",
    "\n",
    "class_to_dict(config)\n",
    "\n",
    "# WandBの初期化\n",
    "wandb.init(\n",
    "    project=f'{CFG.competition_name}_exp{CFG.expUser}',\n",
    "\tconfig=class_to_dict(config),\n",
    " \tname = config.expid,\n",
    ")\n",
    "\n",
    "# データセットを取得\n",
    "data = fetch_california_housing()\n",
    "df = pd.DataFrame(data.data, columns=data.feature_names)\n",
    "y = pd.DataFrame(data.target, columns=data.target_names)\n",
    "\n",
    "X_train, X_test, y_train, y_test = train_test_split(\n",
    "\tdf[config.features],\n",
    "\ty,\n",
    "\ttest_size=config.test_size,\n",
    "\trandom_state=config.random_state\n",
    ")\n",
    "\n",
    "X_train.shape, X_test.shape, y_train.shape, y_test.shape\n",
    "\n",
    "# LightGBM用のデータセットに変換\n",
    "train_data = lgb.Dataset(X_train, label=y_train)\n",
    "test_data = lgb.Dataset(X_test, label=y_test, reference=train_data)"
   ]
  },
  {
   "cell_type": "code",
   "execution_count": 10,
   "id": "8fbea7c5",
   "metadata": {},
   "outputs": [
    {
     "data": {
      "text/html": [
       "<iframe src='https://wandb.ai/ryokuki/cmi-detect-behavior-with-sensor-data_kukimiya/runs/670fmj0r?jupyter=true' style='border:none;width:100%;height:420px;'></iframe>"
      ],
      "text/plain": [
       "<wandb.jupyter.IFrame at 0x78c37d910d90>"
      ]
     },
     "metadata": {},
     "output_type": "display_data"
    },
    {
     "name": "stdout",
     "output_type": "stream",
     "text": [
      "[LightGBM] [Info] Auto-choosing col-wise multi-threading, the overhead of testing was 0.000213 seconds.\n",
      "You can set `force_col_wise=true` to remove the overhead.\n",
      "[LightGBM] [Info] Total Bins 1838\n",
      "[LightGBM] [Info] Number of data points in the train set: 16512, number of used features: 8\n",
      "[LightGBM] [Info] Start training from score 2.071947\n",
      "Training until validation scores don't improve for 50 rounds\n",
      "[100]\ttraining's rmse: 0.39261\tvalid_1's rmse: 0.461229\n",
      "[200]\ttraining's rmse: 0.339785\tvalid_1's rmse: 0.447667\n",
      "[300]\ttraining's rmse: 0.305127\tvalid_1's rmse: 0.442757\n",
      "[400]\ttraining's rmse: 0.278112\tvalid_1's rmse: 0.439342\n",
      "[500]\ttraining's rmse: 0.255133\tvalid_1's rmse: 0.438417\n",
      "[600]\ttraining's rmse: 0.235924\tvalid_1's rmse: 0.437065\n",
      "Early stopping, best iteration is:\n",
      "[622]\ttraining's rmse: 0.231847\tvalid_1's rmse: 0.436778\n"
     ]
    }
   ],
   "source": [
    "%%wandb\n",
    "\n",
    "# モデルのパラメータを設定\n",
    "params = {\n",
    "    'learning_rate': config.learning_rate,\n",
    "    'num_leaves': config.num_leaves,\n",
    "    'objective': config.objective,\n",
    "    'metric': config.metric,\n",
    "    'feature_fraction': config.feature_fraction\n",
    "}\n",
    "\n",
    "\n",
    "# モデルを学習\n",
    "model = lgb.train(\n",
    "    params,\n",
    "    train_data,\n",
    "    num_boost_round=config.n_estimators,\n",
    "    callbacks = [\n",
    "        lgb.early_stopping(stopping_rounds=config.stopping_rounds, verbose=True),\n",
    "        lgb.log_evaluation(config.log_evaluation),\n",
    "        wandb_callback()\n",
    "    ],\n",
    "    valid_sets=[train_data, test_data],\n",
    ")"
   ]
  },
  {
   "cell_type": "code",
   "execution_count": 11,
   "id": "69320f47",
   "metadata": {},
   "outputs": [
    {
     "name": "stdout",
     "output_type": "stream",
     "text": [
      "RMSE: 0.4367780679358385\n"
     ]
    },
    {
     "data": {
      "text/html": [],
      "text/plain": [
       "<IPython.core.display.HTML object>"
      ]
     },
     "metadata": {},
     "output_type": "display_data"
    },
    {
     "data": {
      "text/html": [
       "<br>    <style><br>        .wandb-row {<br>            display: flex;<br>            flex-direction: row;<br>            flex-wrap: wrap;<br>            justify-content: flex-start;<br>            width: 100%;<br>        }<br>        .wandb-col {<br>            display: flex;<br>            flex-direction: column;<br>            flex-basis: 100%;<br>            flex: 1;<br>            padding: 10px;<br>        }<br>    </style><br><div class=\"wandb-row\"><div class=\"wandb-col\"><h3>Run history:</h3><br/><table class=\"wandb\"><tr><td>iteration</td><td>▁▁▁▁▁▁▂▂▂▂▂▂▂▃▃▃▄▄▄▄▄▅▅▅▅▅▅▅▆▆▆▆▆▆▇▇▇▇██</td></tr><tr><td>training_rmse</td><td>█▆▄▄▄▃▃▃▃▃▃▃▃▂▂▂▂▂▂▂▂▂▂▂▂▂▂▂▂▂▁▁▁▁▁▁▁▁▁▁</td></tr><tr><td>valid_1_rmse</td><td>█▆▆▃▂▂▂▂▂▂▂▂▂▁▁▁▁▁▁▁▁▁▁▁▁▁▁▁▁▁▁▁▁▁▁▁▁▁▁▁</td></tr></table><br/></div><div class=\"wandb-col\"><h3>Run summary:</h3><br/><table class=\"wandb\"><tr><td>best_iteration</td><td>622</td></tr><tr><td>iteration</td><td>671</td></tr></table><br/></div></div>"
      ],
      "text/plain": [
       "<IPython.core.display.HTML object>"
      ]
     },
     "metadata": {},
     "output_type": "display_data"
    },
    {
     "data": {
      "text/html": [
       " View run <strong style=\"color:#cdcd00\">001</strong> at: <a href='https://wandb.ai/ryokuki/cmi-detect-behavior-with-sensor-data_kukimiya/runs/670fmj0r' target=\"_blank\">https://wandb.ai/ryokuki/cmi-detect-behavior-with-sensor-data_kukimiya/runs/670fmj0r</a><br> View project at: <a href='https://wandb.ai/ryokuki/cmi-detect-behavior-with-sensor-data_kukimiya' target=\"_blank\">https://wandb.ai/ryokuki/cmi-detect-behavior-with-sensor-data_kukimiya</a><br>Synced 5 W&B file(s), 1 media file(s), 4 artifact file(s) and 0 other file(s)"
      ],
      "text/plain": [
       "<IPython.core.display.HTML object>"
      ]
     },
     "metadata": {},
     "output_type": "display_data"
    },
    {
     "data": {
      "text/html": [
       "Find logs at: <code>../../wandb/run-20250619_092321-670fmj0r/logs</code>"
      ],
      "text/plain": [
       "<IPython.core.display.HTML object>"
      ]
     },
     "metadata": {},
     "output_type": "display_data"
    }
   ],
   "source": [
    "# テストデータで予測\n",
    "y_pred = model.predict(X_test, num_iteration=model.best_iteration)\n",
    "\n",
    "# モデルの評価\n",
    "rmse = mean_squared_error(y_test, y_pred, squared=False)\n",
    "\n",
    "print(f\"RMSE: {rmse}\")\n",
    "\n",
    "# 学習のサマリーをWandBに記録\n",
    "log_summary(model, save_model_checkpoint=True)\n",
    "\n",
    "# 終了\n",
    "wandb.finish()"
   ]
  },
  {
   "cell_type": "markdown",
   "id": "674ffee8",
   "metadata": {},
   "source": [
    "### training"
   ]
  },
  {
   "cell_type": "code",
   "execution_count": 12,
   "id": "c0444d75",
   "metadata": {},
   "outputs": [
    {
     "name": "stdout",
     "output_type": "stream",
     "text": [
      "✅ ../../results/exp001/model.pkl を作成しました\n"
     ]
    }
   ],
   "source": [
    "exp_dir = Path(f\"{CFG.kaggle_datasets_path}/exp{CFG.expid}\")\n",
    "exp_dir.mkdir(parents=True, exist_ok=True)\n",
    "with open(exp_dir / \"model.pkl\", \"wb\") as f:\n",
    "    pickle.dump(model, f)\n",
    "print(f\"✅ {exp_dir / 'model.pkl'} を作成しました\")"
   ]
  },
  {
   "cell_type": "markdown",
   "id": "80445e86",
   "metadata": {},
   "source": [
    "### 学習モデルのアップロード"
   ]
  },
  {
   "cell_type": "code",
   "execution_count": 13,
   "id": "27ba0c45",
   "metadata": {},
   "outputs": [
    {
     "name": "stdout",
     "output_type": "stream",
     "text": [
      "✅ ../../results/exp001/results.csv を作成しました\n"
     ]
    }
   ],
   "source": [
    "df = pd.DataFrame({\n",
    "    \"epoch\": [1, 2, 3],\n",
    "    \"accuracy\": [0.76, 0.81, 0.85],\n",
    "    \"loss\": [0.5, 0.35, 0.28]\n",
    "})\n",
    "df.to_csv(exp_dir / \"results.csv\", index=False)\n",
    "print(f\"✅ {exp_dir / 'results.csv'} を作成しました\")"
   ]
  },
  {
   "cell_type": "code",
   "execution_count": 14,
   "id": "c096de0d",
   "metadata": {},
   "outputs": [
    {
     "name": "stdout",
     "output_type": "stream",
     "text": [
      "Starting upload for file exp000-ready.zip\n"
     ]
    },
    {
     "name": "stderr",
     "output_type": "stream",
     "text": [
      "100%|██████████| 602k/602k [00:01<00:00, 484kB/s]\n"
     ]
    },
    {
     "name": "stdout",
     "output_type": "stream",
     "text": [
      "Upload successful: exp000-ready.zip (602KB)\n",
      "Starting upload for file exp001.zip\n"
     ]
    },
    {
     "name": "stderr",
     "output_type": "stream",
     "text": [
      "100%|██████████| 602k/602k [00:01<00:00, 414kB/s]\n"
     ]
    },
    {
     "name": "stdout",
     "output_type": "stream",
     "text": [
      "Upload successful: exp001.zip (602KB)\n"
     ]
    }
   ],
   "source": [
    "new_url = kaggle_api.dataset_create_version(\n",
    "    folder=str(CFG.kaggle_datasets_path),\n",
    "    version_notes=f\"Add {CFG.expid}\",  \n",
    "    dir_mode=\"zip\",\n",
    "    quiet=False\n",
    ")"
   ]
  },
  {
   "cell_type": "code",
   "execution_count": 15,
   "id": "dc11a773",
   "metadata": {},
   "outputs": [
    {
     "data": {
      "text/plain": [
       "{\"ref\": \"ryokuki/cdb-datasets-rk\", \"url\": \"https://www.kaggle.com/ryokuki/cdb-datasets-rk\", \"status\": \"Ok\", \"error\": \"\", \"invalidTags\": []}"
      ]
     },
     "execution_count": 15,
     "metadata": {},
     "output_type": "execute_result"
    }
   ],
   "source": [
    "new_url"
   ]
  },
  {
   "cell_type": "markdown",
   "id": "4a8d25b9",
   "metadata": {},
   "source": [
    "done"
   ]
  }
 ],
 "metadata": {
  "kaggle": {
   "accelerator": "gpu",
   "dataSources": [
    {
     "databundleVersionId": 7921029,
     "sourceId": 50160,
     "sourceType": "competition"
    },
    {
     "datasetId": 4920865,
     "sourceId": 8285076,
     "sourceType": "datasetVersion"
    },
    {
     "sourceId": 175052511,
     "sourceType": "kernelVersion"
    },
    {
     "sourceId": 175056234,
     "sourceType": "kernelVersion"
    },
    {
     "sourceId": 176534680,
     "sourceType": "kernelVersion"
    },
    {
     "sourceId": 176536480,
     "sourceType": "kernelVersion"
    },
    {
     "sourceId": 176691105,
     "sourceType": "kernelVersion"
    },
    {
     "sourceId": 177411207,
     "sourceType": "kernelVersion"
    },
    {
     "sourceId": 177638049,
     "sourceType": "kernelVersion"
    },
    {
     "sourceId": 178158327,
     "sourceType": "kernelVersion"
    },
    {
     "sourceId": 178897213,
     "sourceType": "kernelVersion"
    },
    {
     "sourceId": 178897454,
     "sourceType": "kernelVersion"
    },
    {
     "sourceId": 178897844,
     "sourceType": "kernelVersion"
    },
    {
     "sourceId": 178898065,
     "sourceType": "kernelVersion"
    }
   ],
   "dockerImageVersionId": 30699,
   "isGpuEnabled": true,
   "isInternetEnabled": false,
   "language": "python",
   "sourceType": "notebook"
  },
  "kernelspec": {
   "display_name": "Python 3",
   "language": "python",
   "name": "python3"
  },
  "language_info": {
   "codemirror_mode": {
    "name": "ipython",
    "version": 3
   },
   "file_extension": ".py",
   "mimetype": "text/x-python",
   "name": "python",
   "nbconvert_exporter": "python",
   "pygments_lexer": "ipython3",
   "version": "3.11.13"
  },
  "papermill": {
   "default_parameters": {},
   "duration": 281.222357,
   "end_time": "2024-05-22T07:32:41.605412",
   "environment_variables": {},
   "exception": null,
   "input_path": "__notebook__.ipynb",
   "output_path": "__notebook__.ipynb",
   "parameters": {},
   "start_time": "2024-05-22T07:28:00.383055",
   "version": "2.5.0"
  }
 },
 "nbformat": 4,
 "nbformat_minor": 5
}
